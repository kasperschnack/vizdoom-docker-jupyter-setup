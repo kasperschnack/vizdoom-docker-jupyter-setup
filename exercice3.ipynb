{
 "cells": [
  {
   "cell_type": "code",
   "execution_count": null,
   "metadata": {},
   "outputs": [],
   "source": [
    "%matplotlib inline"
   ]
  },
  {
   "cell_type": "code",
   "execution_count": null,
   "metadata": {},
   "outputs": [],
   "source": [
    "import numpy as np\n",
    "import matplotlib.pyplot as plt\n",
    "from scipy.stats import multivariate_normal\n",
    "import random"
   ]
  },
  {
   "cell_type": "code",
   "execution_count": null,
   "metadata": {},
   "outputs": [],
   "source": [
    "## Define distribution\n",
    "mu = (np.array([1, 1]), np.array([-4, 3]))\n",
    "Sigma = (2*np.eye(2), 4*np.eye(2))\n",
    "pi_k = [0.3, 0.7]\n",
    "K = 2"
   ]
  },
  {
   "cell_type": "code",
   "execution_count": null,
   "metadata": {},
   "outputs": [],
   "source": [
    "np.random.normal(loc=0.0, scale=1.0, size=1)"
   ]
  },
  {
   "cell_type": "code",
   "execution_count": null,
   "metadata": {},
   "outputs": [],
   "source": [
    "Sigma"
   ]
  },
  {
   "cell_type": "code",
   "execution_count": null,
   "metadata": {},
   "outputs": [],
   "source": [
    "multivariate_normal.rvs(mean=mu[0],cov=Sigma[0])"
   ]
  },
  {
   "cell_type": "code",
   "execution_count": null,
   "metadata": {},
   "outputs": [],
   "source": [
    "h = np.random.normal(loc=mu[0], scale=Sigma[0])\n",
    "sample = [h[0][0], h[1][1]]\n",
    "sample"
   ]
  },
  {
   "cell_type": "code",
   "execution_count": null,
   "metadata": {},
   "outputs": [],
   "source": [
    "multivariate_normal.rvs()"
   ]
  },
  {
   "cell_type": "code",
   "execution_count": null,
   "metadata": {},
   "outputs": [],
   "source": [
    "np.random.normal(loc=mu[0], scale=Sigma[0])"
   ]
  },
  {
   "cell_type": "code",
   "execution_count": null,
   "metadata": {},
   "outputs": [],
   "source": [
    "## Plot distribution\n",
    "X, Y = np.meshgrid(np.linspace(-12.0, 7.0, 100), np.linspace(-6.0, 9.0, 100))\n",
    "XY = np.stack((X.flatten(), Y.flatten()), axis=1)\n",
    "Z = np.zeros(len(XY))\n",
    "for k in range(K):\n",
    "    Z += pi_k[k] * multivariate_normal.pdf(XY, mean=mu[k], cov=Sigma[k])\n",
    "\n",
    "plt.contour(X, Y, Z.reshape(X.shape))\n",
    "\n",
    "random.choice(random.choice(X))\n",
    "\n",
    "## Sample from distribution\n",
    "N = 500\n",
    "samples = np.zeros((N, 2))\n",
    "for n in range(N):\n",
    "    distribution = random.random()\n",
    "    if distribution < 0.3:\n",
    "        samples[n] = multivariate_normal.rvs(mean=mu[0],cov=Sigma[0])\n",
    "    else:\n",
    "        samples[n] = multivariate_normal.rvs(mean=mu[1],cov=Sigma[1])\n",
    "\n",
    "plt.plot(samples[:, 0], samples[:, 1], '.')\n",
    "\n",
    "plt.show()"
   ]
  },
  {
   "cell_type": "code",
   "execution_count": null,
   "metadata": {},
   "outputs": [],
   "source": [
    "X"
   ]
  },
  {
   "cell_type": "code",
   "execution_count": null,
   "metadata": {},
   "outputs": [],
   "source": [
    "samples"
   ]
  },
  {
   "cell_type": "code",
   "execution_count": null,
   "metadata": {},
   "outputs": [],
   "source": []
  },
  {
   "cell_type": "code",
   "execution_count": null,
   "metadata": {},
   "outputs": [],
   "source": [
    "Z.shape"
   ]
  },
  {
   "cell_type": "code",
   "execution_count": null,
   "metadata": {},
   "outputs": [],
   "source": []
  }
 ],
 "metadata": {
  "kernelspec": {
   "display_name": "Python 3",
   "language": "python",
   "name": "python3"
  },
  "language_info": {
   "codemirror_mode": {
    "name": "ipython",
    "version": 3
   },
   "file_extension": ".py",
   "mimetype": "text/x-python",
   "name": "python",
   "nbconvert_exporter": "python",
   "pygments_lexer": "ipython3",
   "version": "3.6.6"
  }
 },
 "nbformat": 4,
 "nbformat_minor": 2
}
